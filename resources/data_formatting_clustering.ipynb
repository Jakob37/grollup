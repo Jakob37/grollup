{
 "cells": [
  {
   "cell_type": "code",
   "execution_count": 1,
   "metadata": {},
   "outputs": [],
   "source": [
    "import csv\n",
    "import math\n",
    "import statistics\n",
    "from matplotlib import pyplot as plt\n",
    "from scipy.cluster.hierarchy import dendrogram, linkage\n",
    "import numpy as np\n",
    "import scipy"
   ]
  },
  {
   "cell_type": "code",
   "execution_count": 2,
   "metadata": {},
   "outputs": [],
   "source": [
    "expression_path = '/home/aaron/projects/proteogenomics/R-3.5.3/bin/bad_samples_expression_001/RT-Loess-normalized.txt'"
   ]
  },
  {
   "cell_type": "code",
   "execution_count": 3,
   "metadata": {},
   "outputs": [],
   "source": [
    "data = []\n",
    "\n",
    "with open(expression_path) as expression_file:\n",
    "    reader = csv.DictReader(expression_file, delimiter='\\t')\n",
    "    for row in reader:\n",
    "        data.append(row)"
   ]
  },
  {
   "cell_type": "code",
   "execution_count": 4,
   "metadata": {},
   "outputs": [],
   "source": [
    "for row in data:\n",
    "    row['peptide_charge'] = row['peptide'] + '_' + row['charge']"
   ]
  },
  {
   "cell_type": "code",
   "execution_count": 5,
   "metadata": {},
   "outputs": [],
   "source": [
    "headers = ['sample']\n",
    "headers += [row['peptide_charge'] for row in data]"
   ]
  },
  {
   "cell_type": "code",
   "execution_count": null,
   "metadata": {},
   "outputs": [],
   "source": []
  },
  {
   "cell_type": "code",
   "execution_count": null,
   "metadata": {},
   "outputs": [],
   "source": []
  },
  {
   "cell_type": "code",
   "execution_count": 6,
   "metadata": {},
   "outputs": [],
   "source": [
    "samples = {'Yutaka_P1905_021': {}, \n",
    "           'Yutaka_P1905_022': {},\n",
    "           'Yutaka_P1905_023': {},\n",
    "           'Yutaka_P1905_018': {},\n",
    "           'Yutaka_P1905_019': {},\n",
    "           'Yutaka_P1905_020': {}}"
   ]
  },
  {
   "cell_type": "code",
   "execution_count": 7,
   "metadata": {},
   "outputs": [],
   "source": [
    "for row in data:\n",
    "    for key, header in row.items():\n",
    "        if key in samples:\n",
    "            if row[key] == \"NA\":\n",
    "                row[key] = 0.0\n",
    "            samples[key][row['peptide_charge']] = float(row[key])"
   ]
  },
  {
   "cell_type": "code",
   "execution_count": null,
   "metadata": {},
   "outputs": [],
   "source": []
  },
  {
   "cell_type": "code",
   "execution_count": 8,
   "metadata": {},
   "outputs": [],
   "source": [
    "for sample, data in samples.items():\n",
    "    data['sample'] = sample"
   ]
  },
  {
   "cell_type": "code",
   "execution_count": null,
   "metadata": {},
   "outputs": [],
   "source": []
  },
  {
   "cell_type": "code",
   "execution_count": 9,
   "metadata": {},
   "outputs": [],
   "source": [
    "def scale_data(data):\n",
    "    data_min = min(data)\n",
    "    data_max = max(data)\n",
    "    data_mean = statistics.mean(data)\n",
    "    stdev = statistics.stdev(data)\n",
    "    return data_min, data_max, data_mean, stdev"
   ]
  },
  {
   "cell_type": "code",
   "execution_count": 10,
   "metadata": {},
   "outputs": [],
   "source": [
    "def scale_quant(data_point, key, scale_map):\n",
    "    scaled_count = (data_point - scale_map[key][2]) / (scale_map[key][1] - scale_map[key][0])\n",
    "    return scaled_count"
   ]
  },
  {
   "cell_type": "code",
   "execution_count": 11,
   "metadata": {},
   "outputs": [],
   "source": [
    "all_peptide_features = {}\n",
    "\n",
    "for key in headers:\n",
    "    if key != \"sample\":\n",
    "        \n",
    "        if key not in all_peptide_features:\n",
    "            all_peptide_features[key] = []\n",
    "        for sample, quant_data in samples.items():\n",
    "            all_peptide_features[key].append(quant_data[key])\n",
    "\n",
    "            \n",
    "scaled_metrics = {}\n",
    "\n",
    "eliminated_peptides = set()\n",
    "\n",
    "all_stdev = []\n",
    "\n",
    "for peptide_key, data in all_peptide_features.items():\n",
    "    if 0 not in data:\n",
    "        scaled_data_metrics = scale_data(data)\n",
    "        if scaled_data_metrics[3] < 1.0:\n",
    "            eliminated_peptides.add(peptide_key)\n",
    "        all_stdev.append(scaled_data_metrics[3])\n",
    "    scaled_metrics[peptide_key] = scale_data(data)"
   ]
  },
  {
   "cell_type": "code",
   "execution_count": 12,
   "metadata": {},
   "outputs": [],
   "source": [
    "with open('stdev.tsv', 'w') as std_file:\n",
    "    writer = csv.writer(std_file)\n",
    "    writer.writerow(['stdev'])\n",
    "    for stdev in all_stdev:\n",
    "        writer.writerow([stdev])"
   ]
  },
  {
   "cell_type": "code",
   "execution_count": 10,
   "metadata": {},
   "outputs": [],
   "source": [
    "outfile = 'reformatted.tsv'\n",
    "\n",
    "with open(outfile, 'w') as ofile:\n",
    "    writer = csv.DictWriter(ofile, delimiter='\\t', fieldnames=headers)\n",
    "    writer.writeheader()\n",
    "    for sample, data in samples.items():\n",
    "        writer.writerow(data)"
   ]
  },
  {
   "cell_type": "code",
   "execution_count": 11,
   "metadata": {},
   "outputs": [],
   "source": []
  },
  {
   "cell_type": "code",
   "execution_count": 129,
   "metadata": {},
   "outputs": [],
   "source": [
    "training_data = []\n",
    "\n",
    "sample_order = []\n",
    "\n",
    "for sample, data in samples.items():\n",
    "    temp = []\n",
    "    for key, feature in data.items():\n",
    "        if key != 'sample':\n",
    "            if key not in eliminated_peptides:\n",
    "                scaled_data = scale_quant(feature, key, scaled_metrics)\n",
    "                temp.append(scaled_data)\n",
    "    training_data.append(temp)\n",
    "    \n",
    "    sample_order.append(sample)"
   ]
  },
  {
   "cell_type": "code",
   "execution_count": 130,
   "metadata": {},
   "outputs": [],
   "source": [
    "linkage_matrix = linkage(training_data, 'complete')"
   ]
  },
  {
   "cell_type": "code",
   "execution_count": 131,
   "metadata": {},
   "outputs": [
    {
     "data": {
      "text/plain": [
       "array([ 2.        ,  5.        , 10.65792255,  2.        ])"
      ]
     },
     "execution_count": 131,
     "metadata": {},
     "output_type": "execute_result"
    }
   ],
   "source": [
    "linkage_matrix[0]"
   ]
  },
  {
   "cell_type": "code",
   "execution_count": 132,
   "metadata": {},
   "outputs": [],
   "source": [
    "linkage_matrix\n",
    "from matplotlib import colors\n",
    "\n"
   ]
  },
  {
   "cell_type": "code",
   "execution_count": 133,
   "metadata": {},
   "outputs": [],
   "source": [
    "test = colors.to_rgb(\"lightcoral\")"
   ]
  },
  {
   "cell_type": "code",
   "execution_count": null,
   "metadata": {},
   "outputs": [],
   "source": []
  },
  {
   "cell_type": "code",
   "execution_count": 134,
   "metadata": {},
   "outputs": [
    {
     "data": {
      "image/png": "[encoded data removed]",
      "text/plain": [
       "<Figure size 1800x720 with 1 Axes>"
      ]
     },
     "metadata": {
      "needs_background": "light"
     },
     "output_type": "display_data"
    }
   ],
   "source": [
    "scipy.cluster.hierarchy.set_link_color_palette(['lightcoral', 'royalblue', 'y', 'm'])\n",
    "plt.style.use(\"seaborn-muted\")\n",
    "fig, axes = plt.subplots(1, 1, figsize=(25, 10))\n",
    "\n",
    "\n",
    "axes.spines['top'].set_visible(False)\n",
    "axes.spines['right'].set_visible(False)\n",
    "axes.spines['left'].set_visible(False)\n",
    "\n",
    "plt.title('AML Sample Clustering')\n",
    "plt.xlabel('Distance')\n",
    "dn = dendrogram(\n",
    "    linkage_matrix,\n",
    "    leaf_rotation=0,  # rotates the x axis labels# font size for the x axis labels\n",
    "    orientation='left',\n",
    "    labels=sample_order,\n",
    "    above_threshold_color='k',\n",
    "    color_threshold=15\n",
    ")\n",
    "\n",
    "plt.gcf()\n",
    "plt.savefig('aml_sample_clustering.png', dpi=fig.dpi, bbox_inches='tight')\n",
    "plt.show()"
   ]
  },
  {
   "cell_type": "code",
   "execution_count": 115,
   "metadata": {},
   "outputs": [
    {
     "data": {
      "text/plain": [
       "<Figure size 432x288 with 0 Axes>"
      ]
     },
     "metadata": {},
     "output_type": "display_data"
    }
   ],
   "source": [
    "plt.gcf()\n",
    "plt.savefig('aml_sample_clustering.png', dpi=fig.dpi)"
   ]
  },
  {
   "cell_type": "code",
   "execution_count": 116,
   "metadata": {},
   "outputs": [],
   "source": [
    "from scipy import cluster"
   ]
  },
  {
   "cell_type": "code",
   "execution_count": null,
   "metadata": {},
   "outputs": [],
   "source": []
  },
  {
   "cell_type": "code",
   "execution_count": null,
   "metadata": {},
   "outputs": [],
   "source": []
  }
 ],
 "metadata": {
  "kernelspec": {
   "display_name": "Python 3",
   "language": "python",
   "name": "python3"
  },
  "language_info": {
   "codemirror_mode": {
    "name": "ipython",
    "version": 3
   },
   "file_extension": ".py",
   "mimetype": "text/x-python",
   "name": "python",
   "nbconvert_exporter": "python",
   "pygments_lexer": "ipython3",
   "version": "3.6.7"
  }
 },
 "nbformat": 4,
 "nbformat_minor": 2
}
